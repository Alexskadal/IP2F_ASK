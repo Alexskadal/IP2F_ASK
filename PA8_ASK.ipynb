{
 "cells": [
  {
   "cell_type": "markdown",
   "id": "93c4edb1",
   "metadata": {},
   "source": [
    "# Numpy Prog. Assignment 8, Alexander Kyrkjeeide, Version 1, Spring 2023 "
   ]
  },
  {
   "cell_type": "markdown",
   "id": "8903b7f3",
   "metadata": {},
   "source": [
    "## A) "
   ]
  },
  {
   "cell_type": "code",
   "execution_count": 7,
   "id": "cd9371ca",
   "metadata": {},
   "outputs": [
    {
     "name": "stdout",
     "output_type": "stream",
     "text": [
      "[[ 100  400]\n",
      " [ 900 1600]]\n",
      "[[110 120]\n",
      " [130 140]]\n",
      "[[ 50 100]\n",
      " [150 200]]\n",
      "[[3.16227766 4.47213595]\n",
      " [5.47722558 6.32455532]]\n"
     ]
    }
   ],
   "source": [
    "import numpy as np\n",
    "\n",
    "arr = np.array([[10, 20], [30, 40]])\n",
    "\n",
    "squared = arr ** 2\n",
    "\n",
    "added = arr + 100\n",
    "\n",
    "multiplied = arr * 5\n",
    "\n",
    "sqrt = np.sqrt(arr)\n",
    "\n",
    "print(squared)\n",
    "print(added)\n",
    "print(multiplied)\n",
    "print(sqrt)"
   ]
  },
  {
   "cell_type": "markdown",
   "id": "78a8f574",
   "metadata": {},
   "source": [
    "## B)"
   ]
  },
  {
   "cell_type": "code",
   "execution_count": 8,
   "id": "8c1c7ea8",
   "metadata": {},
   "outputs": [
    {
     "name": "stdout",
     "output_type": "stream",
     "text": [
      "[[ 30.   67.5 112.5]\n",
      " [165.  225.  292.5]\n",
      " [367.5 450.  540. ]]\n"
     ]
    }
   ],
   "source": [
    "import numpy as np\n",
    "\n",
    "# 3-by-3 array with integers from 3 to 27 in multiples of 3\n",
    "arr1 = np.array([[3, 6, 9], [12, 15, 18], [21, 24, 27]])\n",
    "\n",
    "# 3-by-3 array with elements evenly spaced between 10 and 20\n",
    "arr2 = np.linspace(10, 20, 9).reshape(3,3)\n",
    "\n",
    "#Adding them together \n",
    "result = arr1 * arr2\n",
    "\n",
    "print(result)"
   ]
  },
  {
   "cell_type": "markdown",
   "id": "1c1c3062",
   "metadata": {},
   "source": [
    "## C)"
   ]
  },
  {
   "cell_type": "code",
   "execution_count": 13,
   "id": "de93cb0d",
   "metadata": {},
   "outputs": [
    {
     "name": "stdout",
     "output_type": "stream",
     "text": [
      "Mean of each column of data:\n",
      "[[52. 12. 81.  0. 58.]\n",
      " [96.  4. 61. 16. 43.]\n",
      " [38. 96. 45. 17. 58.]\n",
      " [97. 21. 22. 25.  6.]\n",
      " [77.  6. 19.  2. 74.]]\n"
     ]
    }
   ],
   "source": [
    "import numpy as np\n",
    "\n",
    "# Load the five .npy files into NumPy arrays\n",
    "arr1 = np.load('process1.npy')\n",
    "arr2 = np.load('process2.npy')\n",
    "arr3 = np.load('process3.npy')\n",
    "arr4 = np.load('process4.npy')\n",
    "arr5 = np.load('process5.npy')\n",
    "\n",
    "# Stack the five arrays into a 5-by-5 array\n",
    "data = np.stack([arr1, arr2, arr3, arr4, arr5], axis=1)\n",
    "\n",
    "\n",
    "mean_data = np.mean(data, axis=0)\n",
    "\n",
    "\n",
    "print(\"Mean of each column of data:\")\n",
    "print(mean_data)"
   ]
  }
 ],
 "metadata": {
  "kernelspec": {
   "display_name": "Python 3",
   "language": "python",
   "name": "python3"
  },
  "language_info": {
   "codemirror_mode": {
    "name": "ipython",
    "version": 3
   },
   "file_extension": ".py",
   "mimetype": "text/x-python",
   "name": "python",
   "nbconvert_exporter": "python",
   "pygments_lexer": "ipython3",
   "version": "3.8.8"
  }
 },
 "nbformat": 4,
 "nbformat_minor": 5
}
